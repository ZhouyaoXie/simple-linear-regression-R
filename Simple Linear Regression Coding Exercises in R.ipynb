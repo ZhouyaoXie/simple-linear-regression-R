{
 "cells": [
  {
   "cell_type": "markdown",
   "metadata": {},
   "source": [
    "## I. Optimize Objective Function"
   ]
  },
  {
   "cell_type": "markdown",
   "metadata": {},
   "source": [
    "Assuming that data comes from a linear model $Y_i = \\beta_0+\\beta_1 X_i$, simple linear regression using least square method aims to find the line that minimizes the following objective function:\n",
    "$$Q(b_0,b_1) = \\sum_i (y_i-\\hat y_i)^2 = \\sum_i (y_i-b_0-b_1 \\hat y_i)^2$$\n",
    "We could solve this using the R builtin linear regression function, but we can also solve it by optimizing the objective function, which in this case is the least squared error function. We could imagine defining any other objective function (e.g. sum of absolute error or sum of Euclidean distance) we desire and solve for the line of best fit using this approach."
   ]
  },
  {
   "cell_type": "code",
   "execution_count": 2,
   "metadata": {},
   "outputs": [],
   "source": [
    "# simulate some data\n",
    "n <- 100\n",
    "x <- rexp(n,rate=2)\n",
    "b0 <- 10\n",
    "b1 <- 5\n",
    "error <- rnorm(n, sd=3)\n",
    "y <- b0+b1*x+error"
   ]
  },
  {
   "cell_type": "code",
   "execution_count": 3,
   "metadata": {},
   "outputs": [
    {
     "data": {
      "text/html": [
       "<ol class=list-inline>\n",
       "\t<li>10.9985664289718</li>\n",
       "\t<li>3.56114149067457</li>\n",
       "</ol>\n"
      ],
      "text/latex": [
       "\\begin{enumerate*}\n",
       "\\item 10.9985664289718\n",
       "\\item 3.56114149067457\n",
       "\\end{enumerate*}\n"
      ],
      "text/markdown": [
       "1. 10.9985664289718\n",
       "2. 3.56114149067457\n",
       "\n",
       "\n"
      ],
      "text/plain": [
       "[1] 10.998566  3.561141"
      ]
     },
     "metadata": {},
     "output_type": "display_data"
    },
    {
     "data": {
      "text/html": [
       "<dl class=dl-horizontal>\n",
       "\t<dt>(Intercept)</dt>\n",
       "\t\t<dd>10.998271484167</dd>\n",
       "\t<dt>x</dt>\n",
       "\t\t<dd>3.5614951455151</dd>\n",
       "</dl>\n"
      ],
      "text/latex": [
       "\\begin{description*}\n",
       "\\item[(Intercept)] 10.998271484167\n",
       "\\item[x] 3.5614951455151\n",
       "\\end{description*}\n"
      ],
      "text/markdown": [
       "(Intercept)\n",
       ":   10.998271484167x\n",
       ":   3.5614951455151\n",
       "\n"
      ],
      "text/plain": [
       "(Intercept)           x \n",
       "  10.998271    3.561495 "
      ]
     },
     "metadata": {},
     "output_type": "display_data"
    }
   ],
   "source": [
    "# objective function\n",
    "least_square_objective <- function(params, x, y){\n",
    "    b0_hat <- params[1]\n",
    "    b1_hat <- params[2]\n",
    "    SSE <- sum((y-b0_hat-b1_hat*x)^2)\n",
    "}\n",
    "# optimize\n",
    "opt <- optim(c(10,5),least_square_objective,x=x,y=y)\n",
    "opt$par\n",
    "# compare with R's built-in linear regression function\n",
    "slr <- lm(y~x)\n",
    "slr$coefficients"
   ]
  },
  {
   "cell_type": "markdown",
   "metadata": {},
   "source": [
    "We could change the objective function to anything according to our needs. For example, suppose we are interested in optimizing the least absolute value:\n",
    "$\\min_{b_0,b_1} \\sum_i |y_i-\\hat y_i|$"
   ]
  },
  {
   "cell_type": "code",
   "execution_count": 4,
   "metadata": {},
   "outputs": [
    {
     "data": {
      "text/html": [
       "<ol class=list-inline>\n",
       "\t<li>10.6692065697048</li>\n",
       "\t<li>3.88911602401723</li>\n",
       "</ol>\n"
      ],
      "text/latex": [
       "\\begin{enumerate*}\n",
       "\\item 10.6692065697048\n",
       "\\item 3.88911602401723\n",
       "\\end{enumerate*}\n"
      ],
      "text/markdown": [
       "1. 10.6692065697048\n",
       "2. 3.88911602401723\n",
       "\n",
       "\n"
      ],
      "text/plain": [
       "[1] 10.669207  3.889116"
      ]
     },
     "metadata": {},
     "output_type": "display_data"
    }
   ],
   "source": [
    "# objective function\n",
    "least_absolute_obj <- function(params, x, y){\n",
    "    b0_hat <- params[1]\n",
    "    b1_hat <- params[2]\n",
    "    sum(abs(y-b0_hat-b1_hat*x))\n",
    "}\n",
    "#optimize\n",
    "opt2 <- optim(c(10,5),least_absolute_obj,x=x,y=y)\n",
    "opt2$par"
   ]
  },
  {
   "cell_type": "markdown",
   "metadata": {},
   "source": [
    "Or we could find $\\hat \\beta_0$, $\\hat \\beta_1$ using MLE, in which case the objective function will be the log likelihood function $\\sum_i \\log f(y_i | \\sigma)$."
   ]
  },
  {
   "cell_type": "code",
   "execution_count": 6,
   "metadata": {},
   "outputs": [
    {
     "data": {
      "text/html": [
       "<ol class=list-inline>\n",
       "\t<li>-0.130775175507615</li>\n",
       "\t<li>0.979382413011618</li>\n",
       "\t<li>1.2904521961941</li>\n",
       "</ol>\n"
      ],
      "text/latex": [
       "\\begin{enumerate*}\n",
       "\\item -0.130775175507615\n",
       "\\item 0.979382413011618\n",
       "\\item 1.2904521961941\n",
       "\\end{enumerate*}\n"
      ],
      "text/markdown": [
       "1. -0.130775175507615\n",
       "2. 0.979382413011618\n",
       "3. 1.2904521961941\n",
       "\n",
       "\n"
      ],
      "text/plain": [
       "[1] -0.1307752  0.9793824  1.2904522"
      ]
     },
     "metadata": {},
     "output_type": "display_data"
    },
    {
     "data": {
      "text/html": [
       "<dl class=dl-horizontal>\n",
       "\t<dt>(Intercept)</dt>\n",
       "\t\t<dd>-0.130963338886415</dd>\n",
       "\t<dt>x</dt>\n",
       "\t\t<dd>0.979730512306197</dd>\n",
       "</dl>\n"
      ],
      "text/latex": [
       "\\begin{description*}\n",
       "\\item[(Intercept)] -0.130963338886415\n",
       "\\item[x] 0.979730512306197\n",
       "\\end{description*}\n"
      ],
      "text/markdown": [
       "(Intercept)\n",
       ":   -0.130963338886415x\n",
       ":   0.979730512306197\n",
       "\n"
      ],
      "text/plain": [
       "(Intercept)           x \n",
       " -0.1309633   0.9797305 "
      ]
     },
     "metadata": {},
     "output_type": "display_data"
    }
   ],
   "source": [
    "n <- 100\n",
    "x <- runif(n, min=0,max=1)\n",
    "beta0 <- 0\n",
    "beta1 <- 1\n",
    "error <- rnorm(n)\n",
    "y <- beta0+beta1*x+error\n",
    "\n",
    "mle_obj <- function(params,x,y){\n",
    "    b0 <- params[1]\n",
    "    b1 <- params[2]\n",
    "    sigma2 <- params[3]\n",
    "    log_likelihood <- sum(dnorm(y,mean=b0+b1*x, sd=sqrt(sigma2),log=TRUE))\n",
    "    return(-log_likelihood)\n",
    "}\n",
    "\n",
    "optim(c(0,0,1),mle_obj, x=x,y=y)$par\n",
    "\n",
    "lm(y~x)$coefficients"
   ]
  },
  {
   "cell_type": "markdown",
   "metadata": {},
   "source": [
    "## II. Simulate data\n",
    "Two basic ways of simulating data:\n",
    "1. create a data generation model\n",
    "2. draw from an existing sample or dataset (bootstrap)\n",
    "  \n",
    "The example below simulates an experiment in which a dice is thrown 100 times and the mean of the number is recorded. This process is then repeated 1000 times, allowing us to plot the sampling distribution of the sample mean."
   ]
  },
  {
   "cell_type": "code",
   "execution_count": 1,
   "metadata": {},
   "outputs": [
    {
     "data": {
      "image/png": "[encoded data removed]",
      "text/plain": [
       "Plot with title \"Sampling Distribution of the Sample Mean\""
      ]
     },
     "metadata": {},
     "output_type": "display_data"
    }
   ],
   "source": [
    "dice <- 1:6\n",
    "num_sim <- 1000\n",
    "sample_size <- 100\n",
    "means <- matrix(data = NA, nrow = num_sim, ncol = 1)\n",
    "for(i in 1:num_sim){\n",
    "    sample <- sample(dice, sample_size, replace=TRUE)\n",
    "    means[i] <- mean(sample)\n",
    "}\n",
    "# plot the sampling distribution of the sample mean\n",
    "hist(means, breaks=20, main='Sampling Distribution of the Sample Mean')\n",
    "abline(v=mean(dice),col='red')\n",
    "abline(v=mean(means),col='blue')\n",
    "legend('topright'，legend=c('true mean','mean of sample mean'),fill=c('red','blue'))"
   ]
  },
  {
   "cell_type": "markdown",
   "metadata": {},
   "source": [
    "We create three linear data generation models below, each with a different $\\epsilon$ distributions: one unif\\~(-1,1), one N\\~(0,2), one Exp\\~(0.5). Then, we repeatedly sample from them 1000 times and plot the sampeling distribution of $\\hat \\beta_0$, $\\hat \\beta_1$ (so fun!)."
   ]
  },
  {
   "cell_type": "code",
   "execution_count": 82,
   "metadata": {},
   "outputs": [],
   "source": [
    "# three linear data generation models with different error distributions\n",
    "num_sim <- 1000\n",
    "n <- 100\n",
    "x <- runif(n, min=-5,max=5)\n",
    "b0 <- -3\n",
    "b1 <- 2\n",
    "type_of_error <- c('uniform','normal','exponential')\n",
    "output <- lapply(type_of_error, function(x) matrix(data=NA, nrow=num_sim, ncol=2))\n",
    "# simulate sampling from each model\n",
    "for(i in 1:num_sim){\n",
    "    errors <- list(unif_error <- runif(n, min=-1,max=1),\n",
    "                   norm_error <- rnorm(n, mean=0, sd=2),\n",
    "                   exp_error <- rexp(n, rate=0.5))\n",
    "    ys <- lapply(errors, function(error) b0+b1*x+error)\n",
    "    slrs <- lapply(ys, function(y) lm(y~x))\n",
    "    for(j in 1:length(slrs)){\n",
    "        output[[j]][i, ] <- slrs[[j]]$coefficients\n",
    "    }\n",
    "}       "
   ]
  },
  {
   "cell_type": "code",
   "execution_count": 91,
   "metadata": {},
   "outputs": [
    {
     "data": {
      "text/plain": [
       "[[1]]\n",
       "$breaks\n",
       " [1] -3.20 -3.18 -3.16 -3.14 -3.12 -3.10 -3.08 -3.06 -3.04 -3.02 -3.00 -2.98\n",
       "[13] -2.96 -2.94 -2.92 -2.90 -2.88 -2.86 -2.84 -2.82 -2.80 -2.78\n",
       "\n",
       "$counts\n",
       " [1]   1   0   6  14  28  40  54 100 108 145 124 123  92  81  37  26  12   6   2\n",
       "[20]   0   1\n",
       "\n",
       "$density\n",
       " [1] 0.05 0.00 0.30 0.70 1.40 2.00 2.70 5.00 5.40 7.25 6.20 6.15 4.60 4.05 1.85\n",
       "[16] 1.30 0.60 0.30 0.10 0.00 0.05\n",
       "\n",
       "$mids\n",
       " [1] -3.19 -3.17 -3.15 -3.13 -3.11 -3.09 -3.07 -3.05 -3.03 -3.01 -2.99 -2.97\n",
       "[13] -2.95 -2.93 -2.91 -2.89 -2.87 -2.85 -2.83 -2.81 -2.79\n",
       "\n",
       "$xname\n",
       "[1] \"output[[x]][, 1]\"\n",
       "\n",
       "$equidist\n",
       "[1] TRUE\n",
       "\n",
       "attr(,\"class\")\n",
       "[1] \"histogram\"\n",
       "\n",
       "[[2]]\n",
       "$breaks\n",
       " [1] -3.7 -3.6 -3.5 -3.4 -3.3 -3.2 -3.1 -3.0 -2.9 -2.8 -2.7 -2.6 -2.5 -2.4 -2.3\n",
       "\n",
       "$counts\n",
       " [1]   2   7  20  41  81 153 169 199 158  90  54  20   4   2\n",
       "\n",
       "$density\n",
       " [1] 0.02 0.07 0.20 0.41 0.81 1.53 1.69 1.99 1.58 0.90 0.54 0.20 0.04 0.02\n",
       "\n",
       "$mids\n",
       " [1] -3.65 -3.55 -3.45 -3.35 -3.25 -3.15 -3.05 -2.95 -2.85 -2.75 -2.65 -2.55\n",
       "[13] -2.45 -2.35\n",
       "\n",
       "$xname\n",
       "[1] \"output[[x]][, 1]\"\n",
       "\n",
       "$equidist\n",
       "[1] TRUE\n",
       "\n",
       "attr(,\"class\")\n",
       "[1] \"histogram\"\n",
       "\n",
       "[[3]]\n",
       "$breaks\n",
       " [1] -1.6 -1.5 -1.4 -1.3 -1.2 -1.1 -1.0 -0.9 -0.8 -0.7 -0.6 -0.5 -0.4 -0.3 -0.2\n",
       "[16] -0.1\n",
       "\n",
       "$counts\n",
       " [1]   1  15  46  93 175 191 193 141  68  39  21  11   4   1   1\n",
       "\n",
       "$density\n",
       " [1] 0.01 0.15 0.46 0.93 1.75 1.91 1.93 1.41 0.68 0.39 0.21 0.11 0.04 0.01 0.01\n",
       "\n",
       "$mids\n",
       " [1] -1.55 -1.45 -1.35 -1.25 -1.15 -1.05 -0.95 -0.85 -0.75 -0.65 -0.55 -0.45\n",
       "[13] -0.35 -0.25 -0.15\n",
       "\n",
       "$xname\n",
       "[1] \"output[[x]][, 1]\"\n",
       "\n",
       "$equidist\n",
       "[1] TRUE\n",
       "\n",
       "attr(,\"class\")\n",
       "[1] \"histogram\"\n"
      ]
     },
     "metadata": {},
     "output_type": "display_data"
    },
    {
     "data": {
      "text/plain": [
       "[[1]]\n",
       "$breaks\n",
       " [1] 1.93 1.94 1.95 1.96 1.97 1.98 1.99 2.00 2.01 2.02 2.03 2.04 2.05 2.06 2.07\n",
       "[16] 2.08\n",
       "\n",
       "$counts\n",
       " [1]   4   8  36  50  85 160 170 178 136  89  43  22  15   3   1\n",
       "\n",
       "$density\n",
       " [1]  0.4  0.8  3.6  5.0  8.5 16.0 17.0 17.8 13.6  8.9  4.3  2.2  1.5  0.3  0.1\n",
       "\n",
       "$mids\n",
       " [1] 1.935 1.945 1.955 1.965 1.975 1.985 1.995 2.005 2.015 2.025 2.035 2.045\n",
       "[13] 2.055 2.065 2.075\n",
       "\n",
       "$xname\n",
       "[1] \"output[[x]][, 2]\"\n",
       "\n",
       "$equidist\n",
       "[1] TRUE\n",
       "\n",
       "attr(,\"class\")\n",
       "[1] \"histogram\"\n",
       "\n",
       "[[2]]\n",
       "$breaks\n",
       " [1] 1.75 1.80 1.85 1.90 1.95 2.00 2.05 2.10 2.15 2.20 2.25 2.30\n",
       "\n",
       "$counts\n",
       " [1]   5  28  68 148 256 224 171  72  22   5   1\n",
       "\n",
       "$density\n",
       " [1] 0.10 0.56 1.36 2.96 5.12 4.48 3.42 1.44 0.44 0.10 0.02\n",
       "\n",
       "$mids\n",
       " [1] 1.775 1.825 1.875 1.925 1.975 2.025 2.075 2.125 2.175 2.225 2.275\n",
       "\n",
       "$xname\n",
       "[1] \"output[[x]][, 2]\"\n",
       "\n",
       "$equidist\n",
       "[1] TRUE\n",
       "\n",
       "attr(,\"class\")\n",
       "[1] \"histogram\"\n",
       "\n",
       "[[3]]\n",
       "$breaks\n",
       " [1] 1.70 1.75 1.80 1.85 1.90 1.95 2.00 2.05 2.10 2.15 2.20 2.25 2.30\n",
       "\n",
       "$counts\n",
       " [1]   2   6  18  69 150 241 240 174  64  26   8   2\n",
       "\n",
       "$density\n",
       " [1] 0.04 0.12 0.36 1.38 3.00 4.82 4.80 3.48 1.28 0.52 0.16 0.04\n",
       "\n",
       "$mids\n",
       " [1] 1.725 1.775 1.825 1.875 1.925 1.975 2.025 2.075 2.125 2.175 2.225 2.275\n",
       "\n",
       "$xname\n",
       "[1] \"output[[x]][, 2]\"\n",
       "\n",
       "$equidist\n",
       "[1] TRUE\n",
       "\n",
       "attr(,\"class\")\n",
       "[1] \"histogram\"\n"
      ]
     },
     "metadata": {},
     "output_type": "display_data"
    },
    {
     "data": {
      "image/png": "[encoded data removed]",
      "text/plain": [
       "Plot with title \"exponential\""
      ]
     },
     "metadata": {},
     "output_type": "display_data"
    }
   ],
   "source": [
    "par(mfrow=c(3,3))\n",
    "lapply(1:3,function(x) hist(output[[x]][ ,1],\n",
    "                            main=type_of_error[x],\n",
    "                            breaks=15,\n",
    "                           xlab='estimated b0'))\n",
    "\n",
    "lapply(1:3,function(x) hist(output[[x]][ ,2],\n",
    "                            main=type_of_error[x],\n",
    "                            breaks=15,\n",
    "                           xlab='estimated b1'))  "
   ]
  },
  {
   "cell_type": "markdown",
   "metadata": {},
   "source": [
    "## III. Inference on SLR Parameters & Estimating Uncertainties\n",
    "The analytical solutions to $Var(\\hat \\beta_0)$, $Var(\\hat \\beta_1)$ are:\n",
    "$$\n",
    "Var(\\hat \\beta_0) = \\sigma^2[\\frac{1}{n}+\\frac{\\bar x^2}{\\sum_i (x_i-\\bar x)^2}]\n",
    "$$\n",
    "$$\n",
    "Var(\\hat \\beta_1) = \\frac{\\sigma^2}{\\sum_i(x_i-\\bar x)^2}\n",
    "$$\n",
    "Using a bootstrap procedure allows us to use $Var(\\hat \\beta_i^{B}$ (the variance of the estimated betas we get from all bootstrap samples) as an estimate for the true variance of betas. "
   ]
  },
  {
   "cell_type": "code",
   "execution_count": 108,
   "metadata": {},
   "outputs": [
    {
     "data": {
      "text/html": [
       "<ol>\n",
       "\t<li><ol class=list-inline>\n",
       "\t<li>0.00345161807048146</li>\n",
       "\t<li>0.000512537235367081</li>\n",
       "</ol>\n",
       "</li>\n",
       "\t<li><ol class=list-inline>\n",
       "\t<li>0.0429277151157414</li>\n",
       "\t<li>0.00616828119169228</li>\n",
       "</ol>\n",
       "</li>\n",
       "\t<li><ol class=list-inline>\n",
       "\t<li>0.0415703726147198</li>\n",
       "\t<li>0.00631599062297564</li>\n",
       "</ol>\n",
       "</li>\n",
       "</ol>\n"
      ],
      "text/latex": [
       "\\begin{enumerate}\n",
       "\\item \\begin{enumerate*}\n",
       "\\item 0.00345161807048146\n",
       "\\item 0.000512537235367081\n",
       "\\end{enumerate*}\n",
       "\n",
       "\\item \\begin{enumerate*}\n",
       "\\item 0.0429277151157414\n",
       "\\item 0.00616828119169228\n",
       "\\end{enumerate*}\n",
       "\n",
       "\\item \\begin{enumerate*}\n",
       "\\item 0.0415703726147198\n",
       "\\item 0.00631599062297564\n",
       "\\end{enumerate*}\n",
       "\n",
       "\\end{enumerate}\n"
      ],
      "text/markdown": [
       "1. 1. 0.00345161807048146\n",
       "2. 0.000512537235367081\n",
       "\n",
       "\n",
       "\n",
       "2. 1. 0.0429277151157414\n",
       "2. 0.00616828119169228\n",
       "\n",
       "\n",
       "\n",
       "3. 1. 0.0415703726147198\n",
       "2. 0.00631599062297564\n",
       "\n",
       "\n",
       "\n",
       "\n",
       "\n"
      ],
      "text/plain": [
       "[[1]]\n",
       "[1] 0.0034516181 0.0005125372\n",
       "\n",
       "[[2]]\n",
       "[1] 0.042927715 0.006168281\n",
       "\n",
       "[[3]]\n",
       "[1] 0.041570373 0.006315991\n"
      ]
     },
     "metadata": {},
     "output_type": "display_data"
    },
    {
     "data": {
      "text/html": [
       "<table>\n",
       "<thead><tr><th scope=col>true_vars_b0</th><th scope=col>true_vars_b1</th></tr></thead>\n",
       "<tbody>\n",
       "\t<tr><td>0.003361732 </td><td>0.0005199702</td></tr>\n",
       "\t<tr><td>0.04034078 </td><td>0.006239643</td></tr>\n",
       "\t<tr><td>0.04034078 </td><td>0.006239643</td></tr>\n",
       "</tbody>\n",
       "</table>\n"
      ],
      "text/latex": [
       "\\begin{tabular}{ll}\n",
       " true\\_vars\\_b0 & true\\_vars\\_b1\\\\\n",
       "\\hline\n",
       "\t 0.003361732  & 0.0005199702\\\\\n",
       "\t 0.04034078  & 0.006239643\\\\\n",
       "\t 0.04034078  & 0.006239643\\\\\n",
       "\\end{tabular}\n"
      ],
      "text/markdown": [
       "\n",
       "| true_vars_b0 | true_vars_b1 |\n",
       "|---|---|\n",
       "| 0.003361732  | 0.0005199702 |\n",
       "| 0.04034078  | 0.006239643 |\n",
       "| 0.04034078  | 0.006239643 |\n",
       "\n"
      ],
      "text/plain": [
       "     true_vars_b0 true_vars_b1\n",
       "[1,] 0.003361732  0.0005199702\n",
       "[2,] 0.04034078   0.006239643 \n",
       "[3,] 0.04034078   0.006239643 "
      ]
     },
     "metadata": {},
     "output_type": "display_data"
    }
   ],
   "source": [
    "# variance of observed beta1 hat and beta2 hat\n",
    "observed_vars <- lapply(1:3, function(x) apply(output[[x]], 2, var))\n",
    "# true variance of beta1 hat and beta2 hat using the analytical formula\n",
    "sigma2 <- list(1/3, 4,4)\n",
    "var_b1_hat <- function(sigma2){\n",
    "    sigma2/sum((x-mean(x))^2)\n",
    "}\n",
    "var_b0_hat <- function(sigma2){\n",
    "    sigma2*(1/2+mean(x)^2/sum((x-mean(x))^2))\n",
    "}\n",
    "true_vars_b1 <- lapply(sigma2, function(s2) s2/sum((x-mean(x))^2))\n",
    "true_vars_b0 <- lapply(sigma2, function(s2) s2*(1/n+mean(x)^2/sum((x-mean(x))^2)))\n",
    "true_vars <- cbind(true_vars_b0,true_vars_b1)\n",
    "observed_vars\n",
    "true_vars"
   ]
  },
  {
   "cell_type": "markdown",
   "metadata": {},
   "source": [
    "## IV. Prediction & Confidence Interval\n",
    "The graph below shows the confidence band for the line of best fit created from 1000 bootstrap samples. Notice that the further away $x_i$ is from $\\bar x$, the wider the band is vertically, implying a larger uncertainty.\n",
    "Given a list of xs for which we would like to estimate their corresponding y values, we compute the variance of all the $\\hat y$s predicted by the bootstrap procedure. The second graph supports our observation from the change in the vertical width of the confidence band."
   ]
  },
  {
   "cell_type": "code",
   "execution_count": 144,
   "metadata": {},
   "outputs": [
    {
     "data": {
      "image/png": "[encoded data removed]",
      "text/plain": [
       "plot without title"
      ]
     },
     "metadata": {},
     "output_type": "display_data"
    }
   ],
   "source": [
    "# Using the data generating model from previous code chunk\n",
    "n <- 100\n",
    "x <- rexp(n,rate=2)\n",
    "b0 <- 10\n",
    "b1 <- 5\n",
    "plot(x,y=b0+b1*x,type='l',col='blue',ylab='Y',xlab='X')\n",
    "poss_x <- rnorm(n, sd=1.5)\n",
    "output <- matrix(NA, nrow=num_sim, ncol=n)\n",
    "\n",
    "num_sim <- 1000\n",
    "for(i in 1:num_sim){\n",
    "    error <- rnorm(n, sd=3)\n",
    "    y <- b0+b1*x+error\n",
    "    slr <- lm(y~x)\n",
    "    abline(a=slr$coefficients[1],b=slr$coefficients[2],col='grey')\n",
    "    output[i, ] <- slr$coefficients[1]+slr$coefficients[2]*poss_x\n",
    "}"
   ]
  },
  {
   "cell_type": "code",
   "execution_count": 145,
   "metadata": {},
   "outputs": [
    {
     "data": {
      "image/png": "[encoded data removed]",
      "text/plain": [
       "plot without title"
      ]
     },
     "metadata": {},
     "output_type": "display_data"
    }
   ],
   "source": [
    "y_pred_vars <- apply(output, 2, var)\n",
    "plot(poss_x, y_pred_vars)\n",
    "abline(v=mean(x),col='red')"
   ]
  },
  {
   "cell_type": "markdown",
   "metadata": {},
   "source": [
    "Now let's compare the confidence band resulting from bootstrap with the $(100-\\alpha)%$ confidence interval for the predicted y $\\hat y_{pred}$, which could be derived from SLR.\\\\\n",
    "The 95% CI is:\n",
    "$$\n",
    "(\\hat y_i + SE(\\hat y_i)\\times t(\\frac{\\alpha}{2};n-2), \\hat y_i+SE(\\hat y_i)\\times t(1-\\frac{\\alpha}{2};n-2)),\n",
    "$$\n",
    "where $MSE = \\frac{\\sum_i (y_i-\\hat y_i)^2}{n-2}$ and $t(q;n-2)$ is defined as $P(Z \\leq t(q;n-2))=q$ for Z~t(n-2)."
   ]
  },
  {
   "cell_type": "code",
   "execution_count": 152,
   "metadata": {},
   "outputs": [
    {
     "data": {
      "image/png": "[encoded data removed]",
      "text/plain": [
       "plot without title"
      ]
     },
     "metadata": {},
     "output_type": "display_data"
    }
   ],
   "source": [
    "error <- rnorm(n, sd=3)\n",
    "y <- b0+b1*x+error\n",
    "slr <- lm(y~x)\n",
    "y_pred <- slr$coefficients[1]+slr$coefficients[2]*poss_x\n",
    "MSE <- sum(slr$residuals^2)/(n-2)\n",
    "y_pred_sigma2 <- MSE*((n+1)/n+(poss_x-mean(x)^2)/sum((x-mean(x))^2))\n",
    "pred_lower <- y_pred+sqrt(y_pred_sigma2)*qt(0.025,n-2)\n",
    "pred_upper <- y_pred+sqrt(y_pred_sigma2)*qt(0.975,n-2)\n",
    "\n",
    "plot(poss_x,y_pred,type='l')\n",
    "abline(a=b0,b=b1,col='red')\n",
    "lines(poss_x, pred_lower,col='grey')\n",
    "lines(poss_x, pred_upper, col='grey')"
   ]
  }
 ],
 "metadata": {
  "kernelspec": {
   "display_name": "R",
   "language": "R",
   "name": "ir"
  },
  "language_info": {
   "codemirror_mode": "r",
   "file_extension": ".r",
   "mimetype": "text/x-r-source",
   "name": "R",
   "pygments_lexer": "r",
   "version": "3.6.1"
  }
 },
 "nbformat": 4,
 "nbformat_minor": 2
}
